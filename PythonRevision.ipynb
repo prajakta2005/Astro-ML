{
 "cells": [
  {
   "cell_type": "code",
   "execution_count": 1,
   "id": "5790bc3f-62de-4ad1-8d8b-0422cddb20b4",
   "metadata": {},
   "outputs": [
    {
     "name": "stdout",
     "output_type": "stream",
     "text": [
      "3.12.3 (tags/v3.12.3:f6650f9, Apr  9 2024, 14:05:25) [MSC v.1938 64 bit (AMD64)]\n"
     ]
    }
   ],
   "source": [
    "import sys \n",
    "print(sys.version)\n"
   ]
  },
  {
   "cell_type": "code",
   "execution_count": 2,
   "id": "d6e90229-1e86-4c1f-a7de-be5c6ea6273e",
   "metadata": {},
   "outputs": [
    {
     "name": "stdout",
     "output_type": "stream",
     "text": [
      "Hello!\n"
     ]
    }
   ],
   "source": [
    "print(\"Hello!\")"
   ]
  },
  {
   "cell_type": "code",
   "execution_count": 4,
   "id": "f966ed6b-7f09-4731-93d0-277a828cc70a",
   "metadata": {},
   "outputs": [
    {
     "name": "stdout",
     "output_type": "stream",
     "text": [
      "John\n"
     ]
    }
   ],
   "source": [
    "x= 5\n",
    "x= 'John'\n",
    "print(x)\n",
    "#print(y)"
   ]
  },
  {
   "cell_type": "code",
   "execution_count": 10,
   "id": "d89f2909-38b5-4440-8c64-8e04e9abeac1",
   "metadata": {},
   "outputs": [
    {
     "name": "stdout",
     "output_type": "stream",
     "text": [
      "3\n",
      "3\n",
      "3.0\n",
      "<class 'str'>\n",
      "<class 'int'>\n",
      "<class 'float'>\n"
     ]
    }
   ],
   "source": [
    "x = str(3)\n",
    "y = int(3)\n",
    "z = float(3)\n",
    "print(x)\n",
    "print(y)\n",
    "print(z)\n",
    "print(type(x))\n",
    "print(type(y))\n",
    "print(type(z))\n",
    "#case sensitive "
   ]
  },
  {
   "cell_type": "code",
   "execution_count": 11,
   "id": "b0c0a1ce-b960-4330-94d4-9e210f26c509",
   "metadata": {},
   "outputs": [
    {
     "name": "stdout",
     "output_type": "stream",
     "text": [
      "orange\n",
      "banana\n",
      "cherry\n"
     ]
    }
   ],
   "source": [
    "x, y, z = 'orange', 'banana', 'cherry'\n",
    "print(x)\n",
    "print(y)\n",
    "print(z)"
   ]
  },
  {
   "cell_type": "code",
   "execution_count": 14,
   "id": "6303b2c0-d748-4797-9152-fdd11f2e117d",
   "metadata": {},
   "outputs": [
    {
     "name": "stdout",
     "output_type": "stream",
     "text": [
      "Python is fun\n",
      "Python is awesome\n"
     ]
    }
   ],
   "source": [
    "x = 'awesome' \n",
    "def func():\n",
    "    x = 'fun'\n",
    "    print('Python is ' + x)\n",
    "func()\n",
    "print('Python is ' + x)"
   ]
  },
  {
   "cell_type": "code",
   "execution_count": 15,
   "id": "65b0aa69-e278-435b-976a-0f44fd8d6b43",
   "metadata": {},
   "outputs": [
    {
     "name": "stdout",
     "output_type": "stream",
     "text": [
      "Python is fantastic\n"
     ]
    }
   ],
   "source": [
    "x = 'awesome'\n",
    "\n",
    "def fun():\n",
    "    global x \n",
    "    x = 'fantastic' \n",
    "fun()\n",
    "print(\"Python is \" + x)"
   ]
  },
  {
   "cell_type": "code",
   "execution_count": 19,
   "id": "351a9171-f348-4b97-921f-fdccdaf4481c",
   "metadata": {},
   "outputs": [
    {
     "name": "stdout",
     "output_type": "stream",
     "text": [
      "('a', 'b', 'c', 'c')\n"
     ]
    }
   ],
   "source": [
    "x = ('a', 'b', 'c','c')\n",
    "\n",
    "print(x)\n"
   ]
  },
  {
   "cell_type": "code",
   "execution_count": 21,
   "id": "b8cde08b-33e1-45cf-9760-04fda56e8e4c",
   "metadata": {},
   "outputs": [
    {
     "name": "stdout",
     "output_type": "stream",
     "text": [
      "9\n"
     ]
    }
   ],
   "source": [
    "import random \n",
    "print(random.randrange(1,10))"
   ]
  },
  {
   "cell_type": "code",
   "execution_count": 25,
   "id": "0b8f9a19-3c25-4a3d-9932-5ebef7192d1b",
   "metadata": {},
   "outputs": [
    {
     "name": "stdout",
     "output_type": "stream",
     "text": [
      " \n"
     ]
    }
   ],
   "source": [
    "a = 'hello world' \n",
    "print(a[5])"
   ]
  },
  {
   "cell_type": "code",
   "execution_count": 26,
   "id": "a33cc441-e127-4eae-9fc2-f3eb8c02c9ce",
   "metadata": {},
   "outputs": [
    {
     "name": "stdout",
     "output_type": "stream",
     "text": [
      "b\n",
      "a\n",
      "n\n",
      "a\n",
      "n\n",
      "a\n"
     ]
    }
   ],
   "source": [
    "for x in \"banana\":\n",
    "  print(x)"
   ]
  },
  {
   "cell_type": "code",
   "execution_count": 35,
   "id": "614feb88-3e7a-46eb-b804-e0e90e0bd5d3",
   "metadata": {},
   "outputs": [
    {
     "name": "stdout",
     "output_type": "stream",
     "text": [
      "Hello, World\n"
     ]
    }
   ],
   "source": [
    "a = \"Hello, World!\"\n",
    "print(a.strip('!'))\n",
    "#removes only something from starting and the endig of the string"
   ]
  },
  {
   "cell_type": "code",
   "execution_count": 37,
   "id": "5710af64-afd2-4e7f-a715-e0f184981269",
   "metadata": {},
   "outputs": [
    {
     "name": "stdout",
     "output_type": "stream",
     "text": [
      "The price is 59.0000 dollars\n"
     ]
    }
   ],
   "source": [
    "price = 59\n",
    "txt = f\"The price is {price:.4f} dollars\"\n",
    "print(txt)"
   ]
  },
  {
   "cell_type": "code",
   "execution_count": 76,
   "id": "e1deeac9-4ce6-4b32-88b4-84a706f6a950",
   "metadata": {},
   "outputs": [
    {
     "name": "stdout",
     "output_type": "stream",
     "text": [
      "hello praju, how is the day\n"
     ]
    }
   ],
   "source": [
    "a = \"         hello praju, how is the day     \"\n",
    "b = a.encode(encoding='ascii', errors = 'ignore')\n",
    "c = a.strip()\n",
    "print(c)"
   ]
  },
  {
   "cell_type": "code",
   "execution_count": 66,
   "id": "ba8b6a22-4939-4d04-8d19-0cabbfcdf75e",
   "metadata": {},
   "outputs": [
    {
     "name": "stdout",
     "output_type": "stream",
     "text": [
      "['a ', 'b', 'c']\n"
     ]
    }
   ],
   "source": [
    "a = 'a , b, c'\n",
    "c = '+'.join(a)\n",
    "d = a.split(', ')\n",
    "#joins with the syntax of sepreator.join(string)--> will join elements of the string in that format \n",
    "print(d)"
   ]
  },
  {
   "cell_type": "code",
   "execution_count": 83,
   "id": "fde9bb63-d058-4e2f-bc16-5c1968847897",
   "metadata": {},
   "outputs": [
    {
     "name": "stdout",
     "output_type": "stream",
     "text": [
      "False\n"
     ]
    }
   ],
   "source": [
    "#booleans \n",
    "print(bool(None))"
   ]
  },
  {
   "cell_type": "code",
   "execution_count": 89,
   "id": "2ada10b0-81b2-4d27-bafe-7cbd340e298f",
   "metadata": {},
   "outputs": [
    {
     "name": "stdout",
     "output_type": "stream",
     "text": [
      "True\n"
     ]
    }
   ],
   "source": [
    "myobj = myclass()\n",
    "print(bool('myobj'))"
   ]
  },
  {
   "cell_type": "code",
   "execution_count": 3,
   "id": "3f6f9dea-2c56-41c9-8aa1-c8a6d9472a21",
   "metadata": {},
   "outputs": [
    {
     "ename": "RemoteServiceError",
     "evalue": "Unable to Locate Adaptor for service: Mast.Catalogs.q1_q17_dr25_koi.Cone",
     "output_type": "error",
     "traceback": [
      "\u001b[1;31m---------------------------------------------------------------------------\u001b[0m",
      "\u001b[1;31mRemoteServiceError\u001b[0m                        Traceback (most recent call last)",
      "Cell \u001b[1;32mIn[3], line 9\u001b[0m\n\u001b[0;32m      6\u001b[0m kic_id \u001b[38;5;241m=\u001b[39m \u001b[38;5;124m\"\u001b[39m\u001b[38;5;124m6922244\u001b[39m\u001b[38;5;124m\"\u001b[39m\n\u001b[0;32m      8\u001b[0m \u001b[38;5;66;03m# Query the KOI catalog for stellar and planetary data\u001b[39;00m\n\u001b[1;32m----> 9\u001b[0m catalog_data \u001b[38;5;241m=\u001b[39m \u001b[43mCatalogs\u001b[49m\u001b[38;5;241;43m.\u001b[39;49m\u001b[43mquery_object\u001b[49m\u001b[43m(\u001b[49m\u001b[38;5;124;43mf\u001b[39;49m\u001b[38;5;124;43m\"\u001b[39;49m\u001b[38;5;124;43mKIC \u001b[39;49m\u001b[38;5;132;43;01m{\u001b[39;49;00m\u001b[43mkic_id\u001b[49m\u001b[38;5;132;43;01m}\u001b[39;49;00m\u001b[38;5;124;43m\"\u001b[39;49m\u001b[43m,\u001b[49m\u001b[43m \u001b[49m\u001b[43mcatalog\u001b[49m\u001b[38;5;241;43m=\u001b[39;49m\u001b[38;5;124;43m\"\u001b[39;49m\u001b[38;5;124;43mq1_q17_dr25_koi\u001b[39;49m\u001b[38;5;124;43m\"\u001b[39;49m\u001b[43m)\u001b[49m\n\u001b[0;32m     11\u001b[0m \u001b[38;5;66;03m# Extract stellar radius (in solar radii) and planetary radius (in Earth radii)\u001b[39;00m\n\u001b[0;32m     12\u001b[0m stellar_radius \u001b[38;5;241m=\u001b[39m catalog_data[\u001b[38;5;124m'\u001b[39m\u001b[38;5;124mkoi_srad\u001b[39m\u001b[38;5;124m'\u001b[39m][\u001b[38;5;241m0\u001b[39m]  \u001b[38;5;66;03m# Host star radius in solar radii\u001b[39;00m\n",
      "File \u001b[1;32m~\\AppData\\Local\\Programs\\Python\\Python312\\Lib\\site-packages\\astroquery\\utils\\class_or_instance.py:25\u001b[0m, in \u001b[0;36mclass_or_instance.__get__.<locals>.f\u001b[1;34m(*args, **kwds)\u001b[0m\n\u001b[0;32m     23\u001b[0m \u001b[38;5;28;01mdef\u001b[39;00m \u001b[38;5;21mf\u001b[39m(\u001b[38;5;241m*\u001b[39margs, \u001b[38;5;241m*\u001b[39m\u001b[38;5;241m*\u001b[39mkwds):\n\u001b[0;32m     24\u001b[0m     \u001b[38;5;28;01mif\u001b[39;00m obj \u001b[38;5;129;01mis\u001b[39;00m \u001b[38;5;129;01mnot\u001b[39;00m \u001b[38;5;28;01mNone\u001b[39;00m:\n\u001b[1;32m---> 25\u001b[0m         \u001b[38;5;28;01mreturn\u001b[39;00m \u001b[38;5;28;43mself\u001b[39;49m\u001b[38;5;241;43m.\u001b[39;49m\u001b[43mfn\u001b[49m\u001b[43m(\u001b[49m\u001b[43mobj\u001b[49m\u001b[43m,\u001b[49m\u001b[43m \u001b[49m\u001b[38;5;241;43m*\u001b[39;49m\u001b[43margs\u001b[49m\u001b[43m,\u001b[49m\u001b[43m \u001b[49m\u001b[38;5;241;43m*\u001b[39;49m\u001b[38;5;241;43m*\u001b[39;49m\u001b[43mkwds\u001b[49m\u001b[43m)\u001b[49m\n\u001b[0;32m     26\u001b[0m     \u001b[38;5;28;01melse\u001b[39;00m:\n\u001b[0;32m     27\u001b[0m         \u001b[38;5;28;01mreturn\u001b[39;00m \u001b[38;5;28mself\u001b[39m\u001b[38;5;241m.\u001b[39mfn(\u001b[38;5;28mcls\u001b[39m, \u001b[38;5;241m*\u001b[39margs, \u001b[38;5;241m*\u001b[39m\u001b[38;5;241m*\u001b[39mkwds)\n",
      "File \u001b[1;32m~\\AppData\\Local\\Programs\\Python\\Python312\\Lib\\site-packages\\astroquery\\utils\\process_asyncs.py:29\u001b[0m, in \u001b[0;36masync_to_sync.<locals>.create_method.<locals>.newmethod\u001b[1;34m(self, *args, **kwargs)\u001b[0m\n\u001b[0;32m     27\u001b[0m \u001b[38;5;28;01mif\u001b[39;00m kwargs\u001b[38;5;241m.\u001b[39mget(\u001b[38;5;124m'\u001b[39m\u001b[38;5;124mget_query_payload\u001b[39m\u001b[38;5;124m'\u001b[39m) \u001b[38;5;129;01mor\u001b[39;00m kwargs\u001b[38;5;241m.\u001b[39mget(\u001b[38;5;124m'\u001b[39m\u001b[38;5;124mfield_help\u001b[39m\u001b[38;5;124m'\u001b[39m):\n\u001b[0;32m     28\u001b[0m     \u001b[38;5;28;01mreturn\u001b[39;00m response\n\u001b[1;32m---> 29\u001b[0m result \u001b[38;5;241m=\u001b[39m \u001b[38;5;28;43mself\u001b[39;49m\u001b[38;5;241;43m.\u001b[39;49m\u001b[43m_parse_result\u001b[49m\u001b[43m(\u001b[49m\u001b[43mresponse\u001b[49m\u001b[43m,\u001b[49m\u001b[43m \u001b[49m\u001b[43mverbose\u001b[49m\u001b[38;5;241;43m=\u001b[39;49m\u001b[43mverbose\u001b[49m\u001b[43m)\u001b[49m\n\u001b[0;32m     30\u001b[0m \u001b[38;5;28mself\u001b[39m\u001b[38;5;241m.\u001b[39mtable \u001b[38;5;241m=\u001b[39m result\n\u001b[0;32m     31\u001b[0m \u001b[38;5;28;01mreturn\u001b[39;00m result\n",
      "File \u001b[1;32m~\\AppData\\Local\\Programs\\Python\\Python312\\Lib\\site-packages\\astroquery\\mast\\collections.py:53\u001b[0m, in \u001b[0;36mCatalogsClass._parse_result\u001b[1;34m(self, response, verbose)\u001b[0m\n\u001b[0;32m     51\u001b[0m \u001b[38;5;28;01mdef\u001b[39;00m \u001b[38;5;21m_parse_result\u001b[39m(\u001b[38;5;28mself\u001b[39m, response, \u001b[38;5;241m*\u001b[39m, verbose\u001b[38;5;241m=\u001b[39m\u001b[38;5;28;01mFalse\u001b[39;00m):\n\u001b[1;32m---> 53\u001b[0m     results_table \u001b[38;5;241m=\u001b[39m \u001b[38;5;28;43mself\u001b[39;49m\u001b[38;5;241;43m.\u001b[39;49m\u001b[43m_current_connection\u001b[49m\u001b[38;5;241;43m.\u001b[39;49m\u001b[43m_parse_result\u001b[49m\u001b[43m(\u001b[49m\u001b[43mresponse\u001b[49m\u001b[43m,\u001b[49m\u001b[43m \u001b[49m\u001b[43mverbose\u001b[49m\u001b[38;5;241;43m=\u001b[39;49m\u001b[43mverbose\u001b[49m\u001b[43m)\u001b[49m\n\u001b[0;32m     55\u001b[0m     \u001b[38;5;28;01mif\u001b[39;00m \u001b[38;5;28mlen\u001b[39m(results_table) \u001b[38;5;241m==\u001b[39m \u001b[38;5;28mself\u001b[39m\u001b[38;5;241m.\u001b[39mcatalog_limit:\n\u001b[0;32m     56\u001b[0m         warnings\u001b[38;5;241m.\u001b[39mwarn(\u001b[38;5;124m\"\u001b[39m\u001b[38;5;124mMaximum catalog results returned, may not include all sources within radius.\u001b[39m\u001b[38;5;124m\"\u001b[39m,\n\u001b[0;32m     57\u001b[0m                       MaxResultsWarning)\n",
      "File \u001b[1;32m~\\AppData\\Local\\Programs\\Python\\Python312\\Lib\\site-packages\\astroquery\\mast\\discovery_portal.py:290\u001b[0m, in \u001b[0;36mPortalAPI._parse_result\u001b[1;34m(self, responses, verbose)\u001b[0m\n\u001b[0;32m    288\u001b[0m \u001b[38;5;66;03m# check for error message\u001b[39;00m\n\u001b[0;32m    289\u001b[0m \u001b[38;5;28;01mif\u001b[39;00m result[\u001b[38;5;124m'\u001b[39m\u001b[38;5;124mstatus\u001b[39m\u001b[38;5;124m'\u001b[39m] \u001b[38;5;241m==\u001b[39m \u001b[38;5;124m\"\u001b[39m\u001b[38;5;124mERROR\u001b[39m\u001b[38;5;124m\"\u001b[39m:\n\u001b[1;32m--> 290\u001b[0m     \u001b[38;5;28;01mraise\u001b[39;00m RemoteServiceError(result\u001b[38;5;241m.\u001b[39mget(\u001b[38;5;124m'\u001b[39m\u001b[38;5;124mmsg\u001b[39m\u001b[38;5;124m'\u001b[39m, \u001b[38;5;124m\"\u001b[39m\u001b[38;5;124mThere was an error with your request.\u001b[39m\u001b[38;5;124m\"\u001b[39m))\n\u001b[0;32m    292\u001b[0m result_table \u001b[38;5;241m=\u001b[39m _json_to_table(result, col_config)\n\u001b[0;32m    293\u001b[0m result_list\u001b[38;5;241m.\u001b[39mappend(result_table)\n",
      "\u001b[1;31mRemoteServiceError\u001b[0m: Unable to Locate Adaptor for service: Mast.Catalogs.q1_q17_dr25_koi.Cone"
     ]
    }
   ],
   "source": [
    "# // floor division divides two numbers and returns the largest whole number that is less than or equal to the result \n",
    "from lightkurve import search_targetpixelfile\n",
    "from astroquery.mast import Catalogs\n",
    "\n",
    "# Define the KIC ID\n",
    "kic_id = \"6922244\"\n",
    "\n",
    "# Query the KOI catalog for stellar and planetary data\n",
    "catalog_data = Catalogs.query_object(f\"KIC {kic_id}\", catalog=\"q1_q17_dr25_koi\")\n",
    "\n",
    "# Extract stellar radius (in solar radii) and planetary radius (in Earth radii)\n",
    "stellar_radius = catalog_data['koi_srad'][0]  # Host star radius in solar radii\n",
    "planet_radius = catalog_data['koi_prad'][0]  # Planet radius in Earth radii\n",
    "\n",
    "# Convert planet radius to solar radii (1 Earth radius = 0.0091577 Solar radii)\n",
    "planet_radius_in_solar = planet_radius * 0.0091577\n",
    "\n",
    "# Calculate the radius ratio\n",
    "radius_ratio = stellar_radius / planet_radius_in_solar\n",
    "\n",
    "print(f\"Stellar Radius: {stellar_radius} Solar radii\")\n",
    "print(f\"Planet Radius: {planet_radius_in_solar:.6f} Solar radii\")\n",
    "print(f\"Radius Ratio (Star/Planet): {radius_ratio:.2f}\")\n"
   ]
  },
  {
   "cell_type": "code",
   "execution_count": 6,
   "id": "56561600-7cca-46e5-96c5-cfd220612da1",
   "metadata": {},
   "outputs": [
    {
     "name": "stdout",
     "output_type": "stream",
     "text": [
      "Stellar Radius: 1.5817 Solar radii\n"
     ]
    }
   ],
   "source": [
    "from lightkurve import search_targetpixelfile\n",
    "from astroquery.mast import Catalogs\n",
    "\n",
    "# Define the KIC ID\n",
    "kic_id = \"6922244\"\n",
    "\n",
    "# Search for the light curve to ensure data exists\n",
    "tpf = search_targetpixelfile(kic_id, mission=\"Kepler\", quarter=4).download()\n",
    "\n",
    "# Use Astroquery to get stellar and planetary data\n",
    "catalog_data = Catalogs.query_object(f\"KIC {kic_id}\", catalog=\"TIC\")  # Using TIC (TESS Input Catalog)\n",
    "\n",
    "# Extract stellar radius (in solar radii)\n",
    "stellar_radius = catalog_data['rad'][0]  # Stellar radius in solar radii\n",
    "\n",
    "# Note: Planetary data might require separate queries if not available in TIC\n",
    "print(f\"Stellar Radius: {stellar_radius} Solar radii\")\n"
   ]
  },
  {
   "cell_type": "code",
   "execution_count": 7,
   "id": "58054355-7502-489c-ba13-19397acc905d",
   "metadata": {},
   "outputs": [
    {
     "name": "stderr",
     "output_type": "stream",
     "text": [
      "C:\\Users\\admin\\AppData\\Local\\Programs\\Python\\Python312\\Lib\\site-packages\\lightkurve\\search.py:424: LightkurveWarning: Warning: 4 files available to download. Only the first file has been downloaded. Please use `download_all()` or specify additional criteria (e.g. quarter, campaign, or sector) to limit your search.\n",
      "  warnings.warn(\n"
     ]
    },
    {
     "name": "stdout",
     "output_type": "stream",
     "text": [
      "Ratio of R_* to R_p: 1.004551811683026\n"
     ]
    },
    {
     "data": {
      "image/png": "[encoded data removed]",
      "text/plain": [
       "<Figure size 848.5x400 with 1 Axes>"
      ]
     },
     "metadata": {},
     "output_type": "display_data"
    }
   ],
   "source": [
    "import lightkurve as lk\n",
    "\n",
    "# Load the dataset for KIC 6922244 (4th quarter)\n",
    "lc = lk.search_lightcurve('KIC 6922244', quarter=4).download()\n",
    "\n",
    "# Flatten the light curve to remove trends\n",
    "flat_lc = lc.flatten()\n",
    "\n",
    "# Plot the light curve to visually inspect transits\n",
    "flat_lc.plot()\n",
    "\n",
    "# Identify transit depth from the data\n",
    "transit_depth = flat_lc.flux.min()\n",
    "\n",
    "# Estimate the ratio R_p/R_*\n",
    "Rp_Rs_ratio = transit_depth**0.5\n",
    "\n",
    "# Calculate the ratio R_*/R_p\n",
    "Rs_Rp_ratio = 1 / Rp_Rs_ratio\n",
    "print(f\"Ratio of R_* to R_p: {Rs_Rp_ratio}\")\n"
   ]
  },
  {
   "cell_type": "code",
   "execution_count": 11,
   "id": "306eb753-5920-444f-9199-65546b8249d7",
   "metadata": {},
   "outputs": [
    {
     "name": "stderr",
     "output_type": "stream",
     "text": [
      "C:\\Users\\admin\\AppData\\Local\\Programs\\Python\\Python312\\Lib\\site-packages\\lightkurve\\search.py:424: LightkurveWarning: Warning: 4 files available to download. Only the first file has been downloaded. Please use `download_all()` or specify additional criteria (e.g. quarter, campaign, or sector) to limit your search.\n",
      "  warnings.warn(\n",
      "C:\\Users\\admin\\AppData\\Local\\Programs\\Python\\Python312\\Lib\\site-packages\\lightkurve\\search.py:424: LightkurveWarning: Warning: 4 files available to download. Only the first file has been downloaded. Please use `download_all()` or specify additional criteria (e.g. quarter, campaign, or sector) to limit your search.\n",
      "  warnings.warn(\n",
      "C:\\Users\\admin\\AppData\\Local\\Programs\\Python\\Python312\\Lib\\site-packages\\lightkurve\\search.py:424: LightkurveWarning: Warning: 4 files available to download. Only the first file has been downloaded. Please use `download_all()` or specify additional criteria (e.g. quarter, campaign, or sector) to limit your search.\n",
      "  warnings.warn(\n"
     ]
    },
    {
     "data": {
      "text/plain": [
       "<Axes: xlabel='Time - 2454833 [BKJD days]', ylabel='Normalized Flux'>"
      ]
     },
     "execution_count": 11,
     "metadata": {},
     "output_type": "execute_result"
    }
   ],
   "source": [
    "from lightkurve import search_lightcurve\n",
    "\n",
    "# Download light curve for KIC 6922244\n",
    "lc = search_lightcurve(\"KIC 6922244\", mission=\"Kepler\", quarter=4).download()\n",
    "search_result = search_lightcurve(\"KIC 6922244\", mission=\"Kepler\", quarter=4)\n",
    "lc_collection = search_result.download_all()\n",
    "# Download all files\n",
    "import warnings\n",
    "from lightkurve import search_lightcurve\n",
    "\n",
    "# Suppress Lightkurve warnings\n",
    "warnings.filterwarnings(\"ignore\", category=UserWarning, module=\"lightkurve\")\n",
    "\n",
    "# Download the light curve\n",
    "lc = search_lightcurve(\"KIC 6922244\", mission=\"Kepler\", quarter=4).download()\n",
    "\n",
    "\n",
    "lc = search_lightcurve(\"KIC 6922244\", mission=\"Kepler\", quarter=4).download()\n",
    "\n",
    "# Flatten the light curve to remove long-term trends\n",
    "lc_flat = lc.flatten()\n",
    "\n",
    "# Plot the light curve to inspect transits\n",
    "lc_flat.plot(title=\"KIC 6922244 Light Curve (Flattened)\")\n"
   ]
  },
  {
   "cell_type": "code",
   "execution_count": 12,
   "id": "396b8863-2ec5-4e79-8bad-38066957f55a",
   "metadata": {},
   "outputs": [
    {
     "name": "stderr",
     "output_type": "stream",
     "text": [
      "C:\\Users\\admin\\AppData\\Local\\Programs\\Python\\Python312\\Lib\\site-packages\\lightkurve\\search.py:424: LightkurveWarning: Warning: 4 files available to download. Only the first file has been downloaded. Please use `download_all()` or specify additional criteria (e.g. quarter, campaign, or sector) to limit your search.\n",
      "  warnings.warn(\n"
     ]
    },
    {
     "ename": "ImportError",
     "evalue": "cannot import name 'BoxLeastSquares' from 'lightkurve.periodogram' (C:\\Users\\admin\\AppData\\Local\\Programs\\Python\\Python312\\Lib\\site-packages\\lightkurve\\periodogram.py)",
     "output_type": "error",
     "traceback": [
      "\u001b[1;31m---------------------------------------------------------------------------\u001b[0m",
      "\u001b[1;31mImportError\u001b[0m                               Traceback (most recent call last)",
      "Cell \u001b[1;32mIn[12], line 12\u001b[0m\n\u001b[0;32m     10\u001b[0m lc_flat\u001b[38;5;241m.\u001b[39mplot(title\u001b[38;5;241m=\u001b[39m\u001b[38;5;124m\"\u001b[39m\u001b[38;5;124mKIC 6922244 Light Curve (Flattened)\u001b[39m\u001b[38;5;124m\"\u001b[39m)\n\u001b[0;32m     11\u001b[0m \u001b[38;5;66;03m# Use the Lightkurve transit search to find periods\u001b[39;00m\n\u001b[1;32m---> 12\u001b[0m \u001b[38;5;28;01mfrom\u001b[39;00m \u001b[38;5;21;01mlightkurve\u001b[39;00m\u001b[38;5;21;01m.\u001b[39;00m\u001b[38;5;21;01mperiodogram\u001b[39;00m \u001b[38;5;28;01mimport\u001b[39;00m BoxLeastSquares\n\u001b[0;32m     14\u001b[0m \u001b[38;5;66;03m# Use BLS to find the period of the transit\u001b[39;00m\n\u001b[0;32m     15\u001b[0m bls \u001b[38;5;241m=\u001b[39m BoxLeastSquares(lc_flat\u001b[38;5;241m.\u001b[39mtime, lc_flat\u001b[38;5;241m.\u001b[39mflux)\n",
      "\u001b[1;31mImportError\u001b[0m: cannot import name 'BoxLeastSquares' from 'lightkurve.periodogram' (C:\\Users\\admin\\AppData\\Local\\Programs\\Python\\Python312\\Lib\\site-packages\\lightkurve\\periodogram.py)"
     ]
    }
   ],
   "source": [
    "from lightkurve import search_lightcurve\n",
    "\n",
    "# Download light curve for KIC 6922244\n",
    "lc = search_lightcurve(\"KIC 6922244\", mission=\"Kepler\", quarter=4).download()\n",
    "\n",
    "# Flatten the light curve to remove long-term trends\n",
    "lc_flat = lc.flatten()\n",
    "\n",
    "# Plot the light curve to inspect transits\n",
    "lc_flat.plot(title=\"KIC 6922244 Light Curve (Flattened)\")\n",
    "# Use the Lightkurve transit search to find periods\n",
    "from lightkurve.periodogram import BoxLeastSquares\n",
    "\n",
    "# Use BLS to find the period of the transit\n",
    "bls = BoxLeastSquares(lc_flat.time, lc_flat.flux)\n",
    "periodogram = bls.autopower(0.2)  # Minimum transit duration is 0.2 days\n",
    "\n",
    "# Plot the periodogram\n",
    "periodogram.plot(title=\"Box Least Squares Periodogram\")\n",
    "\n",
    "# Identify the best period (planet's orbital period)\n",
    "best_period = periodogram.period_at_max_power\n",
    "print(f\"Best period: {best_period:.4f} days\")\n",
    "\n",
    "# Compute the transit duration\n",
    "transit_fit = bls.model(lc_flat.time, best_period, bls.duration_at_max_power, bls.transit_time_at_max_power)\n",
    "duration = bls.duration_at_max_power\n",
    "print(f\"Transit Duration: {duration:.4f} days\")\n"
   ]
  },
  {
   "cell_type": "code",
   "execution_count": 16,
   "id": "6e978cd6-5932-448e-a98f-2bbeddc0b374",
   "metadata": {},
   "outputs": [
    {
     "name": "stdout",
     "output_type": "stream",
     "text": [
      "{'INHERIT': True, 'EXTNAME': 'PRIMARY', 'EXTVER': 1, 'SIMDATA': False, 'TELESCOP': 'TESS', 'INSTRUME': 'TESS Photometer', 'OBJECT': 'TIC 261136679', 'TICID': 261136679, 'RADESYS': 'ICRS', 'RA_OBJ': 84.2911879979852, 'DEC_OBJ': -80.4691197969941, 'EQUINOX': 2000.0, 'EXPOSURE': 22.083243442496, 'TIMEREF': 'SOLARSYSTEM', 'TASSIGN': 'SPACECRAFT', 'TIMESYS': 'TDB', 'BJDREFI': 2457000, 'BJDREFF': 0.0, 'TIMEUNIT': 'd', 'TELAPSE': 27.882883134464, 'LIVETIME': 22.083243442495856, 'TSTART': 1325.29487730636, 'TSTOP': 1353.177760209343, 'DATE-OBS': '2018-07-25T19:03:28.215', 'DATE-END': '2018-08-22T16:14:49.298', 'DEADC': 0.792, 'TIMEPIXR': 0.5, 'TIERRELA': 1.16e-05, 'INT_TIME': 1.98, 'READTIME': 0.02, 'FRAMETIM': 2.0, 'NUM_FRM': 60, 'TIMEDEL': 0.001388888888888889, 'BACKAPP': True, 'DEADAPP': True, 'VIGNAPP': True, 'GAINA': 5.25, 'GAINB': 5.170000076293945, 'GAINC': 5.119999885559082, 'GAIND': 5.199999809265137, 'READNOIA': 10.237500190734863, 'READNOIB': 7.23799991607666, 'READNOIC': 7.270399570465088, 'READNOID': 9.515999794006348, 'NREADOUT': 48, 'FXDOFF': 209700, 'CDPP0_5': 41.65076065, 'CDPP1_0': 34.32826233, 'CDPP2_0': 28.85087585, 'CROWDSAP': 0.99965841, 'FLFRCSAP': 0.9800123, 'NSPSDDET': 0, 'NSPSDCOR': 0, 'PDCVAR': 1.4111118573167796, 'PDCMETHD': 'msMAP', 'NUMBAND': 3, 'FITTYPE1': 'reducedRobust', 'PR_GOOD1': 0.9248221516609192, 'PR_WGHT1': 0.0, 'FITTYPE2': 'prior', 'PR_GOOD2': 0.4012591540813446, 'PR_WGHT2': 46.654083251953125, 'FITTYPE3': 'prior', 'PR_GOOD3': 0.7978636622428894, 'PR_WGHT3': 92.76697540283203, 'PDC_TOT': 0.9903302788734436, 'PDC_TOTP': 30.313024520874023, 'PDC_COR': 0.9925444722175598, 'PDC_CORP': 27.06943130493164, 'PDC_VAR': <astropy.io.fits.card.Undefined object at 0x000001A3455887A0>, 'PDC_VARP': <astropy.io.fits.card.Undefined object at 0x000001A3455887A0>, 'PDC_NOI': 0.9919207096099854, 'PDC_NOIP': 17.476686477661133, 'PDC_EPT': <astropy.io.fits.card.Undefined object at 0x000001A3455887A0>, 'PDC_EPTP': <astropy.io.fits.card.Undefined object at 0x000001A3455887A0>, 'CHECKSUM': 'eSTheSTfeSTfeSTf', 'TMOFST42': 1.0199999809265137, 'MEANBLCA': 6574, 'MEANBLCB': 6574, 'MEANBLCC': 6573, 'MEANBLCD': 6278, 'SIMPLE': True, 'BITPIX': 8, 'NAXIS': 0, 'EXTEND': True, 'NEXTEND': 2, 'ORIGIN': 'NASA/Ames', 'DATE': '2020-09-13', 'CREATOR': '26493 LightCurveExporterPipelineModule', 'PROCVER': 'spoc-5.0.10-20200904', 'FILEVER': '1.0', 'TIMVERSN': 'OGIP/93-003', 'DATA_REL': 42, 'SECTOR': 1, 'CAMERA': 4, 'CCD': 2, 'PXTABLE': 128, 'PMRA': 311.187, 'PMDEC': 1048.84, 'PMTOTAL': 1094.03048155, 'TESSMAG': 5.10540009, 'TEFF': 5992.10009766, 'LOGG': 4.35890007, 'MH': 0.0887839, 'RADIUS': 1.14889002, 'TICVER': '8.1', 'CRMITEN': True, 'CRBLKSZ': 10, 'CRSPOC': False, 'LABEL': 'TIC 261136679', 'MISSION': 'TESS', 'RA': 84.2911879979852, 'DEC': -80.4691197969941, 'FILENAME': 'C:\\\\Users\\\\admin\\\\.lightkurve\\\\cache\\\\mastDownload\\\\TESS\\\\tess2018206045859-s0001-0000000261136679-0120-s\\\\tess2018206045859-s0001-0000000261136679-0120-s_lc.fits', 'FLUX_ORIGIN': 'pdcsap_flux', 'AUTHOR': 'SPOC', 'TARGETID': 261136679, 'QUALITY_BITMASK': 'default', 'QUALITY_MASK': array([False,  True,  True, ...,  True,  True,  True], shape=(19261,))}\n",
      "Radius information is not available in the metadata.\n"
     ]
    }
   ],
   "source": [
    "import lightkurve as lk\n",
    "\n",
    "# Download the light curve for Pi Mensae (sector 1)\n",
    "search_result_pi_mensae = lk.search_lightcurve(\"Pi Mensae\", mission=\"TESS\", sector=1)\n",
    "lc_pi_mensae = search_result_pi_mensae.download_all()\n",
    "\n",
    "# Extract metadata for stellar and exoplanet parameters\n",
    "metadata_pi_mensae = lc_pi_mensae[0].meta  # Access meta attribute\n",
    "print(metadata_pi_mensae)  # Inspect metadata keys and values\n",
    "\n",
    "# Example: Extract radius values (replace with actual keys from metadata)\n",
    "radius_star = metadata_pi_mensae.get(\"RADIUS_STAR\")  # Replace with actual metadata key\n",
    "radius_planet = metadata_pi_mensae.get(\"RADIUS_PLANET\")  # Replace with actual metadata key\n",
    "\n",
    "if radius_star and radius_planet:\n",
    "    ratio = radius_star / radius_planet\n",
    "    print(f\"Ratio of host star's radius to exoplanet's radius: {ratio}\")\n",
    "else:\n",
    "    print(\"Radius information is not available in the metadata.\")\n",
    "\n"
   ]
  },
  {
   "cell_type": "code",
   "execution_count": 18,
   "id": "681a9072-2ee1-4edb-a3ac-3d2b929ba586",
   "metadata": {},
   "outputs": [
    {
     "name": "stderr",
     "output_type": "stream",
     "text": [
      "C:\\Users\\admin\\AppData\\Local\\Programs\\Python\\Python312\\Lib\\site-packages\\lightkurve\\search.py:424: LightkurveWarning: Warning: 7 files available to download. Only the first file has been downloaded. Please use `download_all()` or specify additional criteria (e.g. quarter, campaign, or sector) to limit your search.\n",
      "  warnings.warn(\n"
     ]
    },
    {
     "name": "stdout",
     "output_type": "stream",
     "text": [
      "Ratio of R_* to R_p for Pi Mensae: 1.0005810030179143\n"
     ]
    }
   ],
   "source": [
    "import lightkurve as lk\n",
    "\n",
    "# Load the dataset for Pi Mensae (sector 1)\n",
    "lc = lk.search_lightcurve('Pi Mensae', sector=1).download()\n",
    "\n",
    "# Flatten the light curve to remove trends\n",
    "flat_lc = lc.flatten()\n",
    "\n",
    "# Plot the light curve to visually inspect transits\n",
    "flat_lc.plot()\n",
    "\n",
    "# Identify transit depth from the data\n",
    "transit_depth = flat_lc.flux.min()  # Minimum flux corresponds to the deepest transit\n",
    "\n",
    "# Estimate the ratio R_p / R_*\n",
    "Rp_Rs_ratio = transit_depth ** 0.5\n",
    "\n",
    "# Calculate the ratio R_* / R_p\n",
    "Rs_Rp_ratio = 1 / Rp_Rs_ratio\n",
    "print(f\"Ratio of R_* to R_p for Pi Mensae: {Rs_Rp_ratio}\")\n",
    "\n"
   ]
  },
  {
   "cell_type": "code",
   "execution_count": 19,
   "id": "fed9d6d4-e257-4868-83a8-32f6bdcc7fb4",
   "metadata": {},
   "outputs": [
    {
     "name": "stderr",
     "output_type": "stream",
     "text": [
      "C:\\Users\\admin\\AppData\\Local\\Programs\\Python\\Python312\\Lib\\site-packages\\lightkurve\\search.py:424: LightkurveWarning: Warning: 7 files available to download. Only the first file has been downloaded. Please use `download_all()` or specify additional criteria (e.g. quarter, campaign, or sector) to limit your search.\n",
      "  warnings.warn(\n",
      "WARNING: TimeDeltaMissingUnitWarning: Numerical value without unit or explicit format passed to TimeDelta, assuming days [astropy.time.core]\n"
     ]
    },
    {
     "ename": "TypeError",
     "evalue": "bad operand type for abs(): 'Time'",
     "output_type": "error",
     "traceback": [
      "\u001b[1;31m---------------------------------------------------------------------------\u001b[0m",
      "\u001b[1;31mTypeError\u001b[0m                                 Traceback (most recent call last)",
      "Cell \u001b[1;32mIn[19], line 23\u001b[0m\n\u001b[0;32m     20\u001b[0m \u001b[38;5;66;03m# Create a mask for the transit event around the expected transit time\u001b[39;00m\n\u001b[0;32m     21\u001b[0m \u001b[38;5;66;03m# Example: Let's assume the transit starts around T0 = 1345 (change to the actual time)\u001b[39;00m\n\u001b[0;32m     22\u001b[0m T0 \u001b[38;5;241m=\u001b[39m \u001b[38;5;241m1345\u001b[39m  \u001b[38;5;66;03m# Example starting time of transit (in days, adjust with actual value)\u001b[39;00m\n\u001b[1;32m---> 23\u001b[0m transit_mask \u001b[38;5;241m=\u001b[39m \u001b[43mnp\u001b[49m\u001b[38;5;241;43m.\u001b[39;49m\u001b[43mabs\u001b[49m\u001b[43m(\u001b[49m\u001b[43mflat_lc\u001b[49m\u001b[38;5;241;43m.\u001b[39;49m\u001b[43mtime\u001b[49m\u001b[43m \u001b[49m\u001b[38;5;241;43m-\u001b[39;49m\u001b[43m \u001b[49m\u001b[43mT0\u001b[49m\u001b[43m)\u001b[49m \u001b[38;5;241m<\u001b[39m (transit_duration \u001b[38;5;241m/\u001b[39m \u001b[38;5;241m2\u001b[39m)  \u001b[38;5;66;03m# Mask around the transit\u001b[39;00m\n\u001b[0;32m     25\u001b[0m \u001b[38;5;66;03m# Apply the mask to get the transit duration\u001b[39;00m\n\u001b[0;32m     26\u001b[0m transit_lc \u001b[38;5;241m=\u001b[39m flat_lc[transit_mask]\n",
      "\u001b[1;31mTypeError\u001b[0m: bad operand type for abs(): 'Time'"
     ]
    }
   ],
   "source": [
    "import lightkurve as lk\n",
    "import numpy as np\n",
    "\n",
    "# Load the dataset for Pi Mensae (sector 1)\n",
    "lc = lk.search_lightcurve('Pi Mensae', sector=1).download()\n",
    "\n",
    "# Flatten the light curve to remove trends\n",
    "flat_lc = lc.flatten()\n",
    "\n",
    "# Plot the light curve to visually inspect transits\n",
    "flat_lc.plot()\n",
    "\n",
    "# Define the period and duration of the transit (known from external data or research)\n",
    "# For Pi Mensae b, let's assume the period is around 6.267 days and the transit duration is ~0.15 days\n",
    "# These values can be modified based on available data\n",
    "\n",
    "period = 6.267  # Period of the exoplanet in days (use actual value for Pi Mensae b)\n",
    "transit_duration = 0.15  # Approximate duration of the transit in days (can be adjusted)\n",
    "\n",
    "# Create a mask for the transit event around the expected transit time\n",
    "# Example: Let's assume the transit starts around T0 = 1345 (change to the actual time)\n",
    "T0 = 1345  # Example starting time of transit (in days, adjust with actual value)\n",
    "transit_mask = np.abs(flat_lc.time - T0) < (transit_duration / 2)  # Mask around the transit\n",
    "\n",
    "# Apply the mask to get the transit duration\n",
    "transit_lc = flat_lc[transit_mask]\n",
    "transit_time = transit_lc.time\n",
    "\n",
    "# Calculate the transit duration (in days)\n",
    "transit_duration_actual = transit_time[-1] - transit_time[0]\n",
    "print(f\"Transit Duration: {transit_duration_actual} days\")\n"
   ]
  },
  {
   "cell_type": "code",
   "execution_count": 20,
   "id": "2dfa5fd2-e163-4a30-8851-000de4a13a56",
   "metadata": {},
   "outputs": [
    {
     "name": "stderr",
     "output_type": "stream",
     "text": [
      "C:\\Users\\admin\\AppData\\Local\\Programs\\Python\\Python312\\Lib\\site-packages\\lightkurve\\search.py:424: LightkurveWarning: Warning: 7 files available to download. Only the first file has been downloaded. Please use `download_all()` or specify additional criteria (e.g. quarter, campaign, or sector) to limit your search.\n",
      "  warnings.warn(\n"
     ]
    },
    {
     "name": "stdout",
     "output_type": "stream",
     "text": [
      "Transit Duration: 0.14860860498652073 days\n"
     ]
    }
   ],
   "source": [
    "import lightkurve as lk\n",
    "import numpy as np\n",
    "\n",
    "# Load the dataset for Pi Mensae (sector 1)\n",
    "lc = lk.search_lightcurve('Pi Mensae', sector=1).download()\n",
    "\n",
    "# Flatten the light curve to remove trends\n",
    "flat_lc = lc.flatten()\n",
    "\n",
    "# Plot the light curve to visually inspect transits\n",
    "flat_lc.plot()\n",
    "\n",
    "# Define the period and duration of the transit (known from external data or research)\n",
    "# For Pi Mensae b, let's assume the period is around 6.267 days and the transit duration is ~0.15 days\n",
    "# These values can be modified based on available data\n",
    "\n",
    "period = 6.267  # Period of the exoplanet in days (use actual value for Pi Mensae b)\n",
    "transit_duration = 0.15  # Approximate duration of the transit in days (can be adjusted)\n",
    "\n",
    "# Create a mask for the transit event around the expected transit time\n",
    "# Example: Let's assume the transit starts around T0 = 1345 (change to the actual time)\n",
    "T0 = 1345  # Example starting time of transit (in days, adjust with actual value)\n",
    "\n",
    "# Convert `flat_lc.time` to a numpy array (removing the Time object) for calculation\n",
    "time_array = flat_lc.time.value\n",
    "\n",
    "# Mask around the transit (within half the transit duration)\n",
    "transit_mask = np.abs(time_array - T0) < (transit_duration / 2)  # Mask around the transit\n",
    "\n",
    "# Apply the mask to get the transit data\n",
    "transit_lc = flat_lc[transit_mask]\n",
    "transit_time = transit_lc.time.value  # Get the time values as a numpy array\n",
    "\n",
    "# Calculate the transit duration (in days)\n",
    "transit_duration_actual = transit_time[-1] - transit_time[0]\n",
    "print(f\"Transit Duration: {transit_duration_actual} days\")\n"
   ]
  },
  {
   "cell_type": "code",
   "execution_count": null,
   "id": "7cbcbaeb-53d4-4ab0-b682-d4025e152f00",
   "metadata": {},
   "outputs": [],
   "source": []
  }
 ],
 "metadata": {
  "kernelspec": {
   "display_name": "Python 3 (ipykernel)",
   "language": "python",
   "name": "python3"
  },
  "language_info": {
   "codemirror_mode": {
    "name": "ipython",
    "version": 3
   },
   "file_extension": ".py",
   "mimetype": "text/x-python",
   "name": "python",
   "nbconvert_exporter": "python",
   "pygments_lexer": "ipython3",
   "version": "3.12.3"
  }
 },
 "nbformat": 4,
 "nbformat_minor": 5
}
